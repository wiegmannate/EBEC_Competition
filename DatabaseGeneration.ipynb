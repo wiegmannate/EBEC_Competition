# EBEC_Competition
# Knowledge distribution system

import numpy as np
import random

# Creates simple database of educators. Names x Subject x Teaching Styles x Locations. 12 x 10 x 7 x 5 

# Defines class to store person 
class Educator:
    def __init__(self, Name, Email, Subject, TeachingStyleScore, Location):
        self.name = Name
        self.email = Email
        self.subject = Subject
        self.styleScore = TeachingStyleScore # Out of 5* 
        self.loc = Location

# Defines list of Names 
names = ['Gedeminas','Memet','Nathan','Martin','John','Carolyn','Marianne','Signe','Paul','Loriette','Donald','Natasha']

# Defines test list of subjects for random selection during educator creation
subjects = ['Electrical Engineering','Physics','Biology','BioChemistry','Computer Science','Renewable Energy','Cooking','Bicycle Repair','Fashion','Music']

# Defines list of learning styles that educators have scores for
teachingStyles = ['Visual','Aural','Verbal','Physical','Logical','Social','Solitary']

# Defines test list of locations for random selection during educatior creation
locations = ['Brønby','Albertslund','Niskayuna','Lyngby','Kaunas']

# Creates empty matrix to fill with random educators
educators = []

# Creates the 12 educators
for x in range(0,len(names)-1):
    # Names them
    educators.append(Educator(names[x],names[x]+'@email.com',[],[],[]))
    # Gives them a random range of unique skills
    for y in random.sample(range(0, len(subjects)-1),random.randrange(1,4)):
        educators[x].subject.append(subjects[y])
    # Gives them a random range of unique learning styles
    educators[x].styleScore = [random.randrange(0,len(teachingStyles)-1), random.randrange(0,len(teachingStyles)-1),random.randrange(0,len(teachingStyles)-1),random.randrange(0,len(teachingStyles)-1), random.randrange(0,len(teachingStyles)-1), random.randrange(0,len(teachingStyles)-1), random.randrange(0,len(teachingStyles)-1)]
    educators[x].loc = locations[random.randrange(0,len(locations)-1)]

for x in range(0,len(names)-1):
    print(educators[x].__dict__)

